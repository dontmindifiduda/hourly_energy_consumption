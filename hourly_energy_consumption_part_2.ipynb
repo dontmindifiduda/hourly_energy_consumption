{
 "cells": [
  {
   "cell_type": "markdown",
   "metadata": {},
   "source": [
    "# Hourly Energy Consumption - Part 2\n",
    "\n",
    "This notebook includes examples of the following time series forecasting methods:\n",
    "* Simple Exponential Smoothing\n",
    "* Triple Exponential Smoothing (Holt-Winters)\n",
    "* LSTM\n",
    "* Prophet\n",
    "\n",
    "### Import Libraries & Load Data"
   ]
  },
  {
   "cell_type": "code",
   "execution_count": 1,
   "metadata": {},
   "outputs": [],
   "source": [
    "# Load Modules\n",
    "import numpy as np \n",
    "import pandas as pd\n",
    "import matplotlib\n",
    "import matplotlib.pyplot as plt\n",
    "import seaborn as sns\n",
    "\n",
    "import warnings\n",
    "warnings.filterwarnings('ignore')\n",
    "\n",
    "\n",
    "# Set Plotting Styles\n",
    "plt.style.use('ggplot')\n",
    "matplotlib.rcParams['figure.figsize'] = (18, 18)\n",
    "\n",
    "# Load Data\n",
    "duq_df = pd.read_csv('data/DUQ_hourly.csv', index_col=[0], parse_dates=[0])\n",
    "\n",
    "# Sort Data\n",
    "duq_df.sort_index(inplace=True)"
   ]
  },
  {
   "cell_type": "markdown",
   "metadata": {},
   "source": [
    "### Manage Duplicate Measurements"
   ]
  },
  {
   "cell_type": "code",
   "execution_count": 2,
   "metadata": {},
   "outputs": [
    {
     "data": {
      "text/html": [
       "<div>\n",
       "<style scoped>\n",
       "    .dataframe tbody tr th:only-of-type {\n",
       "        vertical-align: middle;\n",
       "    }\n",
       "\n",
       "    .dataframe tbody tr th {\n",
       "        vertical-align: top;\n",
       "    }\n",
       "\n",
       "    .dataframe thead th {\n",
       "        text-align: right;\n",
       "    }\n",
       "</style>\n",
       "<table border=\"1\" class=\"dataframe\">\n",
       "  <thead>\n",
       "    <tr style=\"text-align: right;\">\n",
       "      <th></th>\n",
       "      <th>DUQ_MW</th>\n",
       "    </tr>\n",
       "    <tr>\n",
       "      <th>Datetime</th>\n",
       "      <th></th>\n",
       "    </tr>\n",
       "  </thead>\n",
       "  <tbody>\n",
       "    <tr>\n",
       "      <th>2014-11-02 02:00:00</th>\n",
       "      <td>1272.0</td>\n",
       "    </tr>\n",
       "    <tr>\n",
       "      <th>2014-11-02 02:00:00</th>\n",
       "      <td>1240.0</td>\n",
       "    </tr>\n",
       "    <tr>\n",
       "      <th>2015-11-01 02:00:00</th>\n",
       "      <td>1113.0</td>\n",
       "    </tr>\n",
       "    <tr>\n",
       "      <th>2015-11-01 02:00:00</th>\n",
       "      <td>1138.0</td>\n",
       "    </tr>\n",
       "    <tr>\n",
       "      <th>2016-11-06 02:00:00</th>\n",
       "      <td>1121.0</td>\n",
       "    </tr>\n",
       "    <tr>\n",
       "      <th>2016-11-06 02:00:00</th>\n",
       "      <td>1107.0</td>\n",
       "    </tr>\n",
       "    <tr>\n",
       "      <th>2017-11-05 02:00:00</th>\n",
       "      <td>1131.0</td>\n",
       "    </tr>\n",
       "    <tr>\n",
       "      <th>2017-11-05 02:00:00</th>\n",
       "      <td>1105.0</td>\n",
       "    </tr>\n",
       "  </tbody>\n",
       "</table>\n",
       "</div>"
      ],
      "text/plain": [
       "                     DUQ_MW\n",
       "Datetime                   \n",
       "2014-11-02 02:00:00  1272.0\n",
       "2014-11-02 02:00:00  1240.0\n",
       "2015-11-01 02:00:00  1113.0\n",
       "2015-11-01 02:00:00  1138.0\n",
       "2016-11-06 02:00:00  1121.0\n",
       "2016-11-06 02:00:00  1107.0\n",
       "2017-11-05 02:00:00  1131.0\n",
       "2017-11-05 02:00:00  1105.0"
      ]
     },
     "execution_count": 2,
     "metadata": {},
     "output_type": "execute_result"
    }
   ],
   "source": [
    "# Identify Duplicate Indices\n",
    "duplicate_index = duq_df[duq_df.index.duplicated()]\n",
    "duq_df.loc[duplicate_index.index.values, :]"
   ]
  },
  {
   "cell_type": "code",
   "execution_count": 3,
   "metadata": {},
   "outputs": [],
   "source": [
    "# Replace Duplicates with Mean Value\n",
    "duq_df = duq_df.groupby('Datetime').agg(np.mean)\n",
    "\n",
    "# Set DatetimeIndex Frequency\n",
    "duq_df = duq_df.asfreq('H')"
   ]
  },
  {
   "cell_type": "markdown",
   "metadata": {},
   "source": [
    "### Impute Missing Values"
   ]
  },
  {
   "cell_type": "code",
   "execution_count": 4,
   "metadata": {},
   "outputs": [
    {
     "name": "stdout",
     "output_type": "stream",
     "text": [
      "# of Missing DUQ_MW Values: 24\n"
     ]
    }
   ],
   "source": [
    "# Determine # of Missing Values\n",
    "print('# of Missing DUQ_MW Values: {}'.format(len(duq_df[duq_df['DUQ_MW'].isna()])))"
   ]
  },
  {
   "cell_type": "code",
   "execution_count": 5,
   "metadata": {},
   "outputs": [],
   "source": [
    "# Impute Missing Values\n",
    "duq_df['DUQ_MW'] = duq_df['DUQ_MW'].interpolate(limit_area='inside', limit=None)"
   ]
  },
  {
   "cell_type": "markdown",
   "metadata": {},
   "source": [
    "### Create Features"
   ]
  },
  {
   "cell_type": "code",
   "execution_count": 6,
   "metadata": {},
   "outputs": [],
   "source": [
    "def create_features(df):\n",
    "    df['Date'] = df.index\n",
    "    df['Hour'] = df['Date'].dt.hour\n",
    "    df['DayOfWeek'] = df['Date'].dt.dayofweek\n",
    "    df['Quarter'] = df['Date'].dt.quarter\n",
    "    df['Month'] = df['Date'].dt.month\n",
    "    df['Year'] = df['Date'].dt.year\n",
    "    df['DayOfYear'] = df['Date'].dt.dayofyear\n",
    "    df['DayOfMonth'] = df['Date'].dt.day\n",
    "    df['WeekOfYear'] = df['Date'].dt.weekofyear\n",
    "    df['DayOfYearFloat'] = df['DayOfYear'] + df['Hour'] / 24\n",
    "    df.drop('Date', axis=1, inplace=True)\n",
    "    return df\n",
    "\n",
    "duq_df = create_features(duq_df)"
   ]
  },
  {
   "cell_type": "code",
   "execution_count": 7,
   "metadata": {},
   "outputs": [],
   "source": [
    "from statsmodels.tsa.api import SimpleExpSmoothing, ExponentialSmoothing\n",
    "from sklearn.metrics import mean_squared_error\n",
    "from datetime import datetime\n",
    "\n",
    "train_series = duq_df.loc[(duq_df.index >= datetime(2016, 1, 1)) & (duq_df.index < datetime(2018, 8, 1)), 'DUQ_MW']\n",
    "test_series = duq_df.loc[(duq_df.index >= datetime(2018, 8, 1)), 'DUQ_MW']"
   ]
  },
  {
   "cell_type": "markdown",
   "metadata": {},
   "source": [
    "# Simple Exponential Smoothing"
   ]
  },
  {
   "cell_type": "code",
   "execution_count": 8,
   "metadata": {},
   "outputs": [],
   "source": [
    "import warnings\n",
    "from statsmodels.tools.sm_exceptions import ConvergenceWarning\n",
    "warnings.simplefilter('ignore', ConvergenceWarning)"
   ]
  },
  {
   "cell_type": "code",
   "execution_count": 9,
   "metadata": {},
   "outputs": [
    {
     "name": "stdout",
     "output_type": "stream",
     "text": [
      "MSE: 57205.995\n"
     ]
    }
   ],
   "source": [
    "SES_model = SimpleExpSmoothing(train_series, initialization_method='estimated').fit()\n",
    "preds = SES_model.forecast(steps=len(test_series))\n",
    "error = mean_squared_error(test_series, preds)\n",
    "\n",
    "print('MSE: %.3f' % error)"
   ]
  },
  {
   "cell_type": "code",
   "execution_count": 10,
   "metadata": {},
   "outputs": [
    {
     "data": {
      "image/png": "[encoded data removed]",
      "text/plain": [
       "<Figure size 1152x1152 with 1 Axes>"
      ]
     },
     "metadata": {},
     "output_type": "display_data"
    }
   ],
   "source": [
    "fig, axes = plt.subplots(figsize=(16,16))\n",
    "\n",
    "axes.plot(test_series, label='Observed Values')\n",
    "axes.plot(preds, color='blue', label='Forecasted Values')\n",
    "plt.xlabel('Date (MM-DD HH)')\n",
    "plt.ylabel('Energy Consumption (MW)')\n",
    "plt.legend()\n",
    "axes.title.set_text('Simple Exponential Smoothing Model Forecasts')\n",
    "plt.savefig('images/SES-forecasts.png')"
   ]
  },
  {
   "cell_type": "markdown",
   "metadata": {},
   "source": [
    "# Triple Exponential Smoothing (Holt-Winters)\n",
    "### Seasonal Periods = 24"
   ]
  },
  {
   "cell_type": "code",
   "execution_count": null,
   "metadata": {},
   "outputs": [],
   "source": [
    "HW_model = ExponentialSmoothing(train_series.values, seasonal_periods=24, trend='add', seasonal='mul')\n",
    "HW_model_fit = HW_model.fit()\n",
    "\n",
    "HW_preds = HW_model_fit.forecast(steps=len(test_series))\n",
    "HW_preds_series = pd.Series(HW_preds, index=test_series.index)\n",
    "\n",
    "error = mean_squared_error(test_series, HW_preds_series)\n",
    "print('MSE: %.3f' % error)"
   ]
  },
  {
   "cell_type": "code",
   "execution_count": null,
   "metadata": {},
   "outputs": [],
   "source": [
    "fig, axes = plt.subplots(figsize=(16,16))\n",
    "\n",
    "axes.plot(test_series, label='Observed Values')\n",
    "axes.plot(HW_preds_series, color='blue', label='Forecasted Values')\n",
    "plt.xlabel('Date (MM-DD HH)')\n",
    "plt.ylabel('Energy Consumption (MW)')\n",
    "plt.legend()\n",
    "axes.title.set_text('Holt-Winters Model Forecasts (Seasonal Periods = 24)')\n",
    "plt.savefig('images/HW-forecasts-24.png')"
   ]
  },
  {
   "cell_type": "markdown",
   "metadata": {},
   "source": [
    "### Seasonal Periods = 24 * 365"
   ]
  },
  {
   "cell_type": "code",
   "execution_count": null,
   "metadata": {},
   "outputs": [],
   "source": [
    "# Caution: training may take >24 hrs\n",
    "\n",
    "# HW_model = ExponentialSmoothing(train_series.values, seasonal_periods=24*365, trend='add', seasonal='mul')\n",
    "# HW_model_fit = HW_model.fit()\n",
    "\n",
    "# HW_preds = HW_model_fit.forecast(steps=len(test_series))\n",
    "# HW_preds_series = pd.Series(HW_preds, index=test_series.index)\n",
    "\n",
    "# error = mean_squared_error(test_series, HW_preds_series)\n",
    "# print('MSE: %.3f' % error)"
   ]
  },
  {
   "cell_type": "code",
   "execution_count": null,
   "metadata": {},
   "outputs": [],
   "source": [
    "# fig, axes = plt.subplots(figsize=(16,16))\n",
    "\n",
    "# axes.plot(test_series, label='Observed Values')\n",
    "# axes.plot(HW_preds_series, color='blue', label='Forecasted Values')\n",
    "# plt.xlabel('Date (MM-DD HH)')\n",
    "# plt.ylabel('Energy Consumption (MW)')\n",
    "# axes.title.set_text('Holt-Winters Model Forecasts (Seasonal Periods = 24 * 365)')\n",
    "# plt.savefig('images/HW-forecasts-24365.png')"
   ]
  },
  {
   "cell_type": "markdown",
   "metadata": {},
   "source": [
    "# LSTM"
   ]
  },
  {
   "cell_type": "code",
   "execution_count": null,
   "metadata": {},
   "outputs": [],
   "source": [
    "from tensorflow.keras.models import Sequential\n",
    "from tensorflow.keras.layers import Dense, LSTM\n",
    "from tensorflow.keras.preprocessing.sequence import TimeseriesGenerator\n",
    "from sklearn.preprocessing import MinMaxScaler\n",
    "\n",
    "np.random.seed(73)\n",
    "\n",
    "# Apply MinMaxScaler to training and test data. Fit to training data, use to transform train + test\n",
    "\n",
    "scaler = MinMaxScaler(feature_range=(0,1))\n",
    "scaled_train_values = scaler.fit_transform(train_series.values.reshape(-1,1))\n",
    "train_series_scaled = pd.Series(data=scaled_train_values.reshape(1,-1)[0], index=train_series.index)\n",
    "\n",
    "# Create TimeseriesGenerator using training data and selected hyperparameters\n",
    "\n",
    "n_input = 24\n",
    "n_features= 1\n",
    "sampling_rate = 1\n",
    "stride = 1\n",
    "batch_size = 1\n",
    "\n",
    "train_generator = TimeseriesGenerator(scaled_train_values, \n",
    "                                      scaled_train_values, \n",
    "                                      length=n_input,\n",
    "                                      sampling_rate=sampling_rate,\n",
    "                                      stride=stride,\n",
    "                                      batch_size=batch_size)\n",
    "\n",
    "# Build and fit model\n",
    "\n",
    "model = Sequential()\n",
    "model.add(LSTM(100, activation='relu', return_sequences=False, input_shape=(n_input, n_features)))\n",
    "model.add(Dense(1))\n",
    "model.compile(optimizer='adam', loss='mse')\n",
    "\n",
    "model.fit(train_generator, epochs=80)\n",
    "\n",
    "# Generate predictions\n",
    "\n",
    "lstm_preds = []\n",
    "\n",
    "batch = scaled_train_values[-n_input:]\n",
    "current_batch = batch.reshape((1, n_input, n_features))\n",
    "\n",
    "for i in range(len(test_series)):\n",
    "    pred = model.predict(current_batch)[0]\n",
    "    lstm_preds.append(pred)\n",
    "    current_batch = np.append(current_batch[:, 1:, :], [[pred]], axis=1)\n",
    "    \n",
    "# Evaluate performance\n",
    "    \n",
    "lstm_preds = scaler.inverse_transform(lstm_preds)\n",
    "lstm_preds = [item for sublist in lstm_preds for item in sublist]\n",
    "    \n",
    "test_score = mean_squared_error(test_series.values, lstm_preds)\n",
    "print(test_score)"
   ]
  },
  {
   "cell_type": "code",
   "execution_count": null,
   "metadata": {},
   "outputs": [],
   "source": [
    "fig, axes = plt.subplots(figsize=(16,16))\n",
    "\n",
    "LSTM_preds_series = pd.Series(lstm_preds, index=test_series.index)\n",
    "\n",
    "axes.plot(test_series, label='Observed Values')\n",
    "axes.plot(LSTM_preds_series, color='blue', label='Forecasted Values')\n",
    "plt.xlabel('Date (MM-DD HH)')\n",
    "plt.ylabel('Energy Consumption (MW)')\n",
    "plt.legend()\n",
    "axes.title.set_text('LSTM Forecasts')\n",
    "plt.savefig('images/LSTM-forecasts.png')"
   ]
  },
  {
   "cell_type": "markdown",
   "metadata": {},
   "source": [
    "# Prophet"
   ]
  },
  {
   "cell_type": "code",
   "execution_count": null,
   "metadata": {},
   "outputs": [],
   "source": [
    "from fbprophet import Prophet"
   ]
  },
  {
   "cell_type": "code",
   "execution_count": null,
   "metadata": {},
   "outputs": [],
   "source": [
    "train_df = pd.DataFrame(train_series).reset_index(drop=False)\n",
    "train_df.columns = ['ds', 'y']"
   ]
  },
  {
   "cell_type": "code",
   "execution_count": null,
   "metadata": {},
   "outputs": [],
   "source": [
    "prophet_model = Prophet()\n",
    "prophet_model.fit(train_df)\n",
    "\n",
    "future = prophet_model.make_future_dataframe(periods=len(test_series), freq='H')\n",
    "forecast = prophet_model.predict(future)"
   ]
  },
  {
   "cell_type": "code",
   "execution_count": null,
   "metadata": {},
   "outputs": [],
   "source": [
    "prophet_preds = forecast['yhat'][-49:].values"
   ]
  },
  {
   "cell_type": "code",
   "execution_count": null,
   "metadata": {},
   "outputs": [],
   "source": [
    "test_score = mean_squared_error(test_series.values, prophet_preds)\n",
    "print(test_score)"
   ]
  },
  {
   "cell_type": "code",
   "execution_count": null,
   "metadata": {},
   "outputs": [],
   "source": [
    "fig, axes = plt.subplots(figsize=(16,16))\n",
    "\n",
    "prophet_preds_series = pd.Series(prophet_preds, index=test_series.index)\n",
    "\n",
    "axes.plot(test_series, label='Observed Values')\n",
    "axes.plot(prophet_preds_series, color='blue', label='Forecasted Values')\n",
    "plt.xlabel('Date (MM-DD HH)')\n",
    "plt.ylabel('Energy Consumption (MW)')\n",
    "plt.legend()\n",
    "axes.title.set_text('Prophet Forecasts')"
   ]
  },
  {
   "cell_type": "markdown",
   "metadata": {},
   "source": [
    "## Add Holiday Effects"
   ]
  },
  {
   "cell_type": "code",
   "execution_count": null,
   "metadata": {},
   "outputs": [],
   "source": [
    "prophet_model = Prophet()\n",
    "prophet_model.add_country_holidays(country_name='US')\n",
    "\n",
    "prophet_model.fit(train_df)\n",
    "future = prophet_model.make_future_dataframe(periods=len(test_series), freq='H')\n",
    "forecast = prophet_model.predict(future)\n",
    "prophet_preds = forecast['yhat'][-49:].values\n",
    "test_score = mean_squared_error(test_series.values, prophet_preds)\n",
    "print(test_score)"
   ]
  },
  {
   "cell_type": "code",
   "execution_count": null,
   "metadata": {},
   "outputs": [],
   "source": [
    "fig, axes = plt.subplots(figsize=(16,16))\n",
    "\n",
    "prophet_preds_series = pd.Series(prophet_preds, index=test_series.index)\n",
    "\n",
    "axes.plot(test_series, label='Observed Values')\n",
    "axes.plot(prophet_preds_series, color='blue', label='Forecasted Values')\n",
    "plt.xlabel('Date (MM-DD HH)')\n",
    "plt.ylabel('Energy Consumption (MW)')\n",
    "plt.legend()\n",
    "axes.title.set_text('Prophet Forecasts')"
   ]
  },
  {
   "cell_type": "markdown",
   "metadata": {},
   "source": [
    "## Multiplicative Seasonality"
   ]
  },
  {
   "cell_type": "code",
   "execution_count": null,
   "metadata": {},
   "outputs": [],
   "source": [
    "prophet_model = Prophet(seasonality_mode='multiplicative')\n",
    "prophet_model.add_country_holidays(country_name='US')\n",
    "prophet_model.fit(train_df)\n",
    "future = prophet_model.make_future_dataframe(periods=len(test_series), freq='H')\n",
    "forecast = prophet_model.predict(future)\n",
    "prophet_preds = forecast['yhat'][-49:].values\n",
    "test_score = mean_squared_error(test_series.values, prophet_preds)\n",
    "print(test_score)"
   ]
  },
  {
   "cell_type": "code",
   "execution_count": null,
   "metadata": {},
   "outputs": [],
   "source": [
    "fig, axes = plt.subplots(figsize=(16,16))\n",
    "\n",
    "prophet_preds_series = pd.Series(prophet_preds, index=test_series.index)\n",
    "\n",
    "axes.plot(test_series, label='Observed Values')\n",
    "axes.plot(prophet_preds_series, color='blue', label='Forecasted Values')\n",
    "plt.xlabel('Date (MM-DD HH)')\n",
    "plt.ylabel('Energy Consumption (MW)')\n",
    "plt.legend()\n",
    "axes.title.set_text('Prophet Forecasts')"
   ]
  },
  {
   "cell_type": "markdown",
   "metadata": {},
   "source": [
    "## Changepoint Prior Scale Adjustment (Less Flexible)"
   ]
  },
  {
   "cell_type": "code",
   "execution_count": null,
   "metadata": {},
   "outputs": [],
   "source": [
    "prophet_model = Prophet(changepoint_prior_scale=0.001) \n",
    "prophet_model.add_country_holidays(country_name='US')\n",
    "prophet_model.fit(train_df)\n",
    "future = prophet_model.make_future_dataframe(periods=len(test_series), freq='H')\n",
    "forecast = prophet_model.predict(future)\n",
    "prophet_preds = forecast['yhat'][-49:].values\n",
    "test_score = mean_squared_error(test_series.values, prophet_preds)\n",
    "print(test_score)"
   ]
  },
  {
   "cell_type": "code",
   "execution_count": null,
   "metadata": {},
   "outputs": [],
   "source": [
    "fig, axes = plt.subplots(figsize=(16,16))\n",
    "\n",
    "prophet_preds_series = pd.Series(prophet_preds, index=test_series.index)\n",
    "\n",
    "axes.plot(test_series, label='Observed Values')\n",
    "axes.plot(prophet_preds_series, color='blue', label='Forecasted Values')\n",
    "plt.xlabel('Date (MM-DD HH)')\n",
    "plt.ylabel('Energy Consumption (MW)')\n",
    "plt.legend()\n",
    "axes.title.set_text('Prophet Forecasts')"
   ]
  },
  {
   "cell_type": "markdown",
   "metadata": {},
   "source": [
    "## Changepoint Prior Scale Adjustment (More Flexible)"
   ]
  },
  {
   "cell_type": "code",
   "execution_count": null,
   "metadata": {},
   "outputs": [],
   "source": [
    "prophet_model = Prophet(changepoint_prior_scale=0.5)\n",
    "prophet_model.add_country_holidays(country_name='US')\n",
    "prophet_model.fit(train_df)\n",
    "future = prophet_model.make_future_dataframe(periods=len(test_series), freq='H')\n",
    "forecast = prophet_model.predict(future)\n",
    "prophet_preds = forecast['yhat'][-49:].values\n",
    "test_score = mean_squared_error(test_series.values, prophet_preds)\n",
    "print(test_score)"
   ]
  },
  {
   "cell_type": "code",
   "execution_count": null,
   "metadata": {
    "scrolled": true
   },
   "outputs": [],
   "source": [
    "fig, axes = plt.subplots(figsize=(16,16))\n",
    "\n",
    "prophet_preds_series = pd.Series(prophet_preds, index=test_series.index)\n",
    "\n",
    "axes.plot(test_series, label='Observed Values')\n",
    "axes.plot(prophet_preds_series, color='blue', label='Forecasted Values')\n",
    "plt.xlabel('Date (MM-DD HH)')\n",
    "plt.ylabel('Energy Consumption (MW)')\n",
    "plt.legend()\n",
    "axes.title.set_text('Prophet Forecasts')\n",
    "plt.savefig('images/Prophet-forecasts.png')"
   ]
  },
  {
   "cell_type": "markdown",
   "metadata": {},
   "source": [
    "# Example Log Growth Curve"
   ]
  },
  {
   "cell_type": "code",
   "execution_count": null,
   "metadata": {},
   "outputs": [],
   "source": [
    "fig, axes = plt.subplots(figsize=(16,8))\n",
    "\n",
    "x_log = list(range(1,10000))\n",
    "y_log = 1000*np.log(x_log)\n",
    "plt.plot(x_log, y_log)\n",
    "plt.xlabel('Time')\n",
    "plt.ylabel('Population')\n",
    "axes.title.set_text('Example Log Growth Curve')\n",
    "\n",
    "plt.savefig('images/log-growth.png')"
   ]
  },
  {
   "cell_type": "code",
   "execution_count": null,
   "metadata": {},
   "outputs": [],
   "source": []
  },
  {
   "cell_type": "code",
   "execution_count": null,
   "metadata": {},
   "outputs": [],
   "source": []
  }
 ],
 "metadata": {
  "kernelspec": {
   "display_name": "Python 3",
   "language": "python",
   "name": "python3"
  },
  "language_info": {
   "codemirror_mode": {
    "name": "ipython",
    "version": 3
   },
   "file_extension": ".py",
   "mimetype": "text/x-python",
   "name": "python",
   "nbconvert_exporter": "python",
   "pygments_lexer": "ipython3",
   "version": "3.7.4"
  }
 },
 "nbformat": 4,
 "nbformat_minor": 4
}
